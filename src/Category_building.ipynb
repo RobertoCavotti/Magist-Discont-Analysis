{
 "cells": [
  {
   "cell_type": "markdown",
   "metadata": {
    "id": "RtAb8S19yR32"
   },
   "source": [
    "# Categories"
   ]
  },
  {
   "cell_type": "markdown",
   "metadata": {
    "id": "pwu1o_l_yVct"
   },
   "source": [
    "## A Importing the data"
   ]
  },
  {
   "cell_type": "code",
   "execution_count": 35,
   "metadata": {
    "executionInfo": {
     "elapsed": 244,
     "status": "ok",
     "timestamp": 1703334424973,
     "user": {
      "displayName": "Hanne Pruefer",
      "userId": "00023317629764901987"
     },
     "user_tz": -60
    },
    "id": "gZ9Fbe-nzH99"
   },
   "outputs": [],
   "source": [
    "import pandas as pd"
   ]
  },
  {
   "cell_type": "code",
   "execution_count": 36,
   "metadata": {
    "executionInfo": {
     "elapsed": 1667,
     "status": "ok",
     "timestamp": 1703334427022,
     "user": {
      "displayName": "Hanne Pruefer",
      "userId": "00023317629764901987"
     },
     "user_tz": -60
    },
    "id": "G4os7DCWyvRa"
   },
   "outputs": [],
   "source": [
    "url = \"https://drive.google.com/file/d/1UGkJuuPXvyWLTl1vzIhj7sTdKgDQ2O7H/view?usp=drive_link\" # all Orders\n",
    "path = \"https://drive.google.com/uc?export=download&id=\"+url.split(\"/\")[-2]\n",
    "all_orders_qu = pd.read_csv(path)"
   ]
  },
  {
   "cell_type": "code",
   "execution_count": 37,
   "metadata": {
    "executionInfo": {
     "elapsed": 402,
     "status": "ok",
     "timestamp": 1703334427420,
     "user": {
      "displayName": "Hanne Pruefer",
      "userId": "00023317629764901987"
     },
     "user_tz": -60
    },
    "id": "Du1Y2wpj2KSP"
   },
   "outputs": [],
   "source": [
    "url = \"https://drive.google.com/file/d/1ZlWuyW0ZJe_DDuNWiiV-F4hhtGz4qlKT/view?usp=drive_link\" # brands\n",
    "path = \"https://drive.google.com/uc?export=download&id=\"+url.split(\"/\")[-2]\n",
    "brands = pd.read_csv(path)"
   ]
  },
  {
   "cell_type": "code",
   "execution_count": 38,
   "metadata": {
    "executionInfo": {
     "elapsed": 15,
     "status": "ok",
     "timestamp": 1703334427420,
     "user": {
      "displayName": "Hanne Pruefer",
      "userId": "00023317629764901987"
     },
     "user_tz": -60
    },
    "id": "3pBD83JdgrBW"
   },
   "outputs": [],
   "source": [
    "pd.options.display.min_rows = 30\n",
    "pd.options.display.max_rows = 100\n",
    "pd.set_option(\"display.max_colwidth\", 100)"
   ]
  },
  {
   "cell_type": "markdown",
   "metadata": {
    "id": "5Aj0zvr87ZPQ"
   },
   "source": [
    "### formatting some columns / Further cleaning"
   ]
  },
  {
   "cell_type": "code",
   "execution_count": 39,
   "metadata": {
    "executionInfo": {
     "elapsed": 14,
     "status": "ok",
     "timestamp": 1703334427421,
     "user": {
      "displayName": "Hanne Pruefer",
      "userId": "00023317629764901987"
     },
     "user_tz": -60
    },
    "id": "LLNLxRxt7Yq4"
   },
   "outputs": [],
   "source": [
    "all_orders_qu[\"discount_percentage\"] =  all_orders_qu['discount_percentage'].round(2)"
   ]
  },
  {
   "cell_type": "code",
   "execution_count": 40,
   "metadata": {
    "executionInfo": {
     "elapsed": 14,
     "status": "ok",
     "timestamp": 1703334427421,
     "user": {
      "displayName": "Hanne Pruefer",
      "userId": "00023317629764901987"
     },
     "user_tz": -60
    },
    "id": "pmaCBitv1W5T"
   },
   "outputs": [],
   "source": [
    "#convert  Date Columns to datetimes\n",
    "all_orders_qu[\"created_date\"] = pd.to_datetime(all_orders_qu[\"created_date\"])"
   ]
  },
  {
   "cell_type": "code",
   "execution_count": 41,
   "metadata": {
    "executionInfo": {
     "elapsed": 13,
     "status": "ok",
     "timestamp": 1703334427421,
     "user": {
      "displayName": "Hanne Pruefer",
      "userId": "00023317629764901987"
     },
     "user_tz": -60
    },
    "id": "6P-GCg6h2TAi"
   },
   "outputs": [],
   "source": [
    "all_orders_qu[\"date\"] = pd.to_datetime(all_orders_qu[\"date\"])"
   ]
  },
  {
   "cell_type": "code",
   "execution_count": 42,
   "metadata": {
    "colab": {
     "base_uri": "https://localhost:8080/"
    },
    "executionInfo": {
     "elapsed": 273,
     "status": "ok",
     "timestamp": 1703334427682,
     "user": {
      "displayName": "Hanne Pruefer",
      "userId": "00023317629764901987"
     },
     "user_tz": -60
    },
    "id": "Mm1F7reF28jl",
    "outputId": "c1906c15-bc85-40b0-bda6-655d120b859b"
   },
   "outputs": [
    {
     "name": "stdout",
     "output_type": "stream",
     "text": [
      "<class 'pandas.core.frame.DataFrame'>\n",
      "RangeIndex: 85867 entries, 0 to 85866\n",
      "Data columns (total 15 columns):\n",
      " #   Column               Non-Null Count  Dtype         \n",
      "---  ------               --------------  -----         \n",
      " 0   id                   85867 non-null  int64         \n",
      " 1   order_id             85867 non-null  int64         \n",
      " 2   sku                  85867 non-null  object        \n",
      " 3   name                 85867 non-null  object        \n",
      " 4   desc                 85867 non-null  object        \n",
      " 5   type                 85867 non-null  object        \n",
      " 6   created_date         85867 non-null  datetime64[ns]\n",
      " 7   date                 85867 non-null  datetime64[ns]\n",
      " 8   state                85867 non-null  object        \n",
      " 9   unit_price           85867 non-null  float64       \n",
      " 10  product_quantity     85867 non-null  int64         \n",
      " 11  unit_price_total     85867 non-null  float64       \n",
      " 12  price                85867 non-null  float64       \n",
      " 13  total_paid           85867 non-null  float64       \n",
      " 14  discount_percentage  85867 non-null  float64       \n",
      "dtypes: datetime64[ns](2), float64(5), int64(3), object(5)\n",
      "memory usage: 9.8+ MB\n"
     ]
    }
   ],
   "source": [
    "all_orders_qu.info()"
   ]
  },
  {
   "cell_type": "markdown",
   "metadata": {
    "id": "5rU-GeU62kwQ"
   },
   "source": [
    "## B Creating categories by types"
   ]
  },
  {
   "cell_type": "code",
   "execution_count": 43,
   "metadata": {
    "executionInfo": {
     "elapsed": 12,
     "status": "ok",
     "timestamp": 1703334427683,
     "user": {
      "displayName": "Hanne Pruefer",
      "userId": "00023317629764901987"
     },
     "user_tz": -60
    },
    "id": "uo4mE9SK2tD1"
   },
   "outputs": [],
   "source": [
    "def category_setting(dataf):\n",
    "  all_orders_cat = dataf.copy() # Copy of the originial dataframe\n",
    "  all_orders_cat.insert(6,column=\"category\", value=\"\") #insert a column\n",
    "  # create temporary list and dataframe to separate the the types with the most items\n",
    "  temp_df = all_orders_cat.groupby(\"type\", as_index=False).count().nlargest(30,columns=\"order_id\")\n",
    "  type_lst = temp_df[\"type\"].to_list()\n",
    "  # set all items that do not belong to these types to category \"others\"\n",
    "  all_orders_cat.loc[~(all_orders_cat[\"type\"].isin(type_lst)),\"category\"] = \"others\"\n",
    "\n",
    "  #Sort specific types\n",
    "  all_orders_cat.loc[(all_orders_cat[\"type\"].isin([\"1,02E+12\",\"1282\", \"5,74E+15\",\"2,17E+11\"])),\"category\"] = \"Laptops & Desktop computers\"\n",
    "  all_orders_cat.loc[(all_orders_cat[\"type\"].str.contains(r\"1716\\Z\")),\"category\"] = \"Smartphones\"\n",
    "  all_orders_cat.loc[(all_orders_cat[\"type\"]==\"5398\"),\"category\"] = \"Speaker\"\n",
    "  all_orders_cat.loc[(all_orders_cat[\"type\"].str.contains(r\"5403\\Z\"))|(all_orders_cat[\"type\"]==\"1392\"),\"category\"] = \"Cases & Covers\"\n",
    "  all_orders_cat.loc[(all_orders_cat[\"type\"]==\"5384\"),\"category\"] = \"Earphones\"\n",
    "  all_orders_cat.loc[(all_orders_cat[\"type\"].isin([\"5395\",\"11905404\",\"24895185\", \"24885185\"])),\"category\"] = \"Smart Gadgets\"\n",
    "  all_orders_cat.loc[(all_orders_cat[\"type\"].str.contains(r\"5397\\Z\"))|(all_orders_cat[\"type\"].isin([\"12755395\",\"1364\"])),\"category\"] = \"Hardware\"\n",
    "  all_orders_cat.loc[(all_orders_cat[\"type\"].isin([\"1229\",\"1230\",\"1433\",\"12585395\",\"13615399\",\"1325\",\"1387\",\"10142\",\"14365395\", \"1515\", \"8696\", \"13005399\"])),\"category\"] = \"Accessories\"\n",
    "  all_orders_cat.loc[(all_orders_cat[\"type\"].isin([\"1405\",\"106431714\",\"1714\",\"51871714\"])),\"category\"] = \"Tablets\"\n",
    "  all_orders_cat.loc[(all_orders_cat[\"type\"]==\"1231\"),\"category\"] = \"Services\"\n",
    "  all_orders_cat.loc[(all_orders_cat[\"type\"].isin([\"13855401\",\"1296\",\"5401\"])),\"category\"] = \"Keyboards & Monitors\"\n",
    "  return all_orders_cat"
   ]
  },
  {
   "cell_type": "code",
   "execution_count": 44,
   "metadata": {
    "executionInfo": {
     "elapsed": 418,
     "status": "ok",
     "timestamp": 1703334428091,
     "user": {
      "displayName": "Hanne Pruefer",
      "userId": "00023317629764901987"
     },
     "user_tz": -60
    },
    "id": "b0wOl5Tus771"
   },
   "outputs": [],
   "source": [
    "all_orders_cat = category_setting(all_orders_qu)"
   ]
  },
  {
   "cell_type": "markdown",
   "metadata": {
    "id": "VGCw5ysUE25-"
   },
   "source": [
    "### B1 checking the values"
   ]
  },
  {
   "cell_type": "code",
   "execution_count": 45,
   "metadata": {
    "colab": {
     "base_uri": "https://localhost:8080/"
    },
    "executionInfo": {
     "elapsed": 19,
     "status": "ok",
     "timestamp": 1703334428092,
     "user": {
      "displayName": "Hanne Pruefer",
      "userId": "00023317629764901987"
     },
     "user_tz": -60
    },
    "id": "dO5GFy_uPC3Y",
    "outputId": "1080b705-eea0-401f-85b6-3662e7e01c1a"
   },
   "outputs": [
    {
     "data": {
      "text/plain": [
       "category\n",
       "Accessories                    13910\n",
       "Cases & Covers                 11587\n",
       "Earphones                       3216\n",
       "Hardware                       20948\n",
       "Keyboards & Monitors            3459\n",
       "Laptops & Desktop computers     5481\n",
       "Services                        2454\n",
       "Smart Gadgets                   6652\n",
       "Smartphones                     5071\n",
       "Speaker                         1047\n",
       "Tablets                         3346\n",
       "others                          8696\n",
       "Name: order_id, dtype: int64"
      ]
     },
     "execution_count": 45,
     "metadata": {},
     "output_type": "execute_result"
    }
   ],
   "source": [
    "all_orders_cat.groupby(\"category\")[\"order_id\"].count()"
   ]
  },
  {
   "cell_type": "code",
   "execution_count": 46,
   "metadata": {
    "colab": {
     "base_uri": "https://localhost:8080/"
    },
    "executionInfo": {
     "elapsed": 15,
     "status": "ok",
     "timestamp": 1703334428093,
     "user": {
      "displayName": "Hanne Pruefer",
      "userId": "00023317629764901987"
     },
     "user_tz": -60
    },
    "id": "3UQmn8GgPmmg",
    "outputId": "57438294-8d95-406f-dfef-a5a2f7256ddb"
   },
   "outputs": [
    {
     "data": {
      "text/plain": [
       "0.1012728987853308"
      ]
     },
     "execution_count": 46,
     "metadata": {},
     "output_type": "execute_result"
    }
   ],
   "source": [
    "# Percentage of others at 10%\n",
    "x = 8696/85867\n",
    "x"
   ]
  },
  {
   "cell_type": "code",
   "execution_count": 47,
   "metadata": {
    "colab": {
     "base_uri": "https://localhost:8080/",
     "height": 17
    },
    "executionInfo": {
     "elapsed": 1413,
     "status": "ok",
     "timestamp": 1703334429495,
     "user": {
      "displayName": "Hanne Pruefer",
      "userId": "00023317629764901987"
     },
     "user_tz": -60
    },
    "id": "cOOdQft7NDBW",
    "outputId": "f97913bf-04c6-437a-b0f9-28aeaf3dcc2e"
   },
   "outputs": [
    {
     "data": {
      "application/javascript": [
       "\n",
       "    async function download(id, filename, size) {\n",
       "      if (!google.colab.kernel.accessAllowed) {\n",
       "        return;\n",
       "      }\n",
       "      const div = document.createElement('div');\n",
       "      const label = document.createElement('label');\n",
       "      label.textContent = `Downloading \"${filename}\": `;\n",
       "      div.appendChild(label);\n",
       "      const progress = document.createElement('progress');\n",
       "      progress.max = size;\n",
       "      div.appendChild(progress);\n",
       "      document.body.appendChild(div);\n",
       "\n",
       "      const buffers = [];\n",
       "      let downloaded = 0;\n",
       "\n",
       "      const channel = await google.colab.kernel.comms.open(id);\n",
       "      // Send a message to notify the kernel that we're ready.\n",
       "      channel.send({})\n",
       "\n",
       "      for await (const message of channel.messages) {\n",
       "        // Send a message to notify the kernel that we're ready.\n",
       "        channel.send({})\n",
       "        if (message.buffers) {\n",
       "          for (const buffer of message.buffers) {\n",
       "            buffers.push(buffer);\n",
       "            downloaded += buffer.byteLength;\n",
       "            progress.value = downloaded;\n",
       "          }\n",
       "        }\n",
       "      }\n",
       "      const blob = new Blob(buffers, {type: 'application/binary'});\n",
       "      const a = document.createElement('a');\n",
       "      a.href = window.URL.createObjectURL(blob);\n",
       "      a.download = filename;\n",
       "      div.appendChild(a);\n",
       "      a.click();\n",
       "      div.remove();\n",
       "    }\n",
       "  "
      ],
      "text/plain": [
       "<IPython.core.display.Javascript object>"
      ]
     },
     "metadata": {},
     "output_type": "display_data"
    },
    {
     "data": {
      "application/javascript": [
       "download(\"download_3e987b4a-2ca7-464a-b585-e08cbf27d063\", \"all_orders_cat.csv\", 21244903)"
      ],
      "text/plain": [
       "<IPython.core.display.Javascript object>"
      ]
     },
     "metadata": {},
     "output_type": "display_data"
    }
   ],
   "source": [
    "# download the complete table\n",
    "from google.colab import files\n",
    "\n",
    "all_orders_cat_br.to_csv(\"all_orders_cat.csv\", index=False)\n",
    "files.download(\"all_orders_cat.csv\")"
   ]
  }
 ],
 "metadata": {
  "colab": {
   "authorship_tag": "ABX9TyNQEFM4AJDKQSszMx1s9Ap/",
   "collapsed_sections": [
    "VGCw5ysUE25-"
   ],
   "provenance": [
    {
     "file_id": "1Fcnwx7iJAzmsgaQ_u4NttGSTiby6_2fB",
     "timestamp": 1702029150376
    }
   ]
  },
  "kernelspec": {
   "display_name": "Python 3 (ipykernel)",
   "language": "python",
   "name": "python3"
  },
  "language_info": {
   "codemirror_mode": {
    "name": "ipython",
    "version": 3
   },
   "file_extension": ".py",
   "mimetype": "text/x-python",
   "name": "python",
   "nbconvert_exporter": "python",
   "pygments_lexer": "ipython3",
   "version": "3.11.5"
  }
 },
 "nbformat": 4,
 "nbformat_minor": 4
}
